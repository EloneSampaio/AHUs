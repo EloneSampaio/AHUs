{
  "cells": [
    {
      "cell_type": "markdown",
      "metadata": {
        "id": "view-in-github",
        "colab_type": "text"
      },
      "source": [
        "<a href=\"https://colab.research.google.com/github/EloneSampaio/AHUs/blob/master/Trabalho.ipynb\" target=\"_parent\"><img src=\"https://colab.research.google.com/assets/colab-badge.svg\" alt=\"Open In Colab\"/></a>"
      ]
    },
    {
      "cell_type": "code",
      "execution_count": null,
      "metadata": {
        "id": "vvEexf5Sk8f7"
      },
      "outputs": [],
      "source": []
    },
    {
      "cell_type": "code",
      "source": [
        "import csv\n",
        "\n",
        "# Função para salvar as alocações no formato desejado\n",
        "def salvar_alocacoes_csv(alocacoes, pontos_avaliacao, participantes, arquivo):\n",
        "    with open(arquivo, mode=\"w\", newline=\"\") as file:\n",
        "        writer = csv.writer(file)\n",
        "        writer.writerow([\"Ponto de Avaliação\", \"Cod Participante\", \"Nome do Participante\"])\n",
        "\n",
        "        for ponto_id, alocados in alocacoes.items():\n",
        "            ponto_nome = next(p[\"nome\"] for p in pontos_avaliacao if p[\"id\"] == ponto_id)\n",
        "            for participante_id in alocados:\n",
        "                participante = next(p for p in participantes if p[\"id\"] == participante_id)\n",
        "                writer.writerow([ponto_nome, participante[\"id\"], participante[\"nome\"]])\n",
        "\n",
        "# Carregar os pontos de avaliação\n",
        "def carregar_pontos_avaliacao(arquivo):\n",
        "    pontos = []\n",
        "    with open(arquivo, mode=\"r\") as file:\n",
        "        reader = csv.DictReader(file)\n",
        "        for i, row in enumerate(reader):\n",
        "            pontos.append({\n",
        "                \"id\": i + 1,  # Adicionar ID único\n",
        "                \"nome\": row[\"Nome\"],\n",
        "                \"capacidade\": int(row[\"Capacidade\"]),\n",
        "                \"lat\": float(row[\"Latitude\"]),\n",
        "                \"lon\": float(row[\"Longitude\"]),\n",
        "            })\n",
        "    return pontos\n",
        "\n",
        "# Carregar os candidatos\n",
        "def carregar_candidatos(arquivo):\n",
        "    candidatos = []\n",
        "    with open(arquivo, mode=\"r\") as file:\n",
        "        reader = csv.DictReader(file)\n",
        "        for i, row in enumerate(reader):\n",
        "            candidatos.append({\n",
        "                \"id\": i + 1,  # Adicionar ID único\n",
        "                \"nome\": row[\"Name\"],\n",
        "                \"lat\": float(row[\"Latitude\"]),\n",
        "                \"lon\": float(row[\"Longitude\"]),\n",
        "            })\n",
        "    return candidatos\n",
        "\n"
      ],
      "metadata": {
        "id": "kbLK-MzfwvNA"
      },
      "execution_count": 1,
      "outputs": []
    },
    {
      "cell_type": "markdown",
      "metadata": {
        "id": "UlWZw4_0lOMN"
      },
      "source": []
    },
    {
      "cell_type": "code",
      "execution_count": 2,
      "metadata": {
        "id": "xpd2ciyelOcS"
      },
      "outputs": [],
      "source": [
        "# haversine\n",
        "import math\n",
        "from collections import defaultdict\n",
        "\n",
        "def haversine(lat1, lon1, lat2, lon2):\n",
        "    \"\"\"\n",
        "    Calcula a distância entre duas coordenadas de latitude e longitude usando a fórmula de Haversine.\n",
        "    \"\"\"\n",
        "    R = 6371  # Raio da Terra em km\n",
        "    phi1 = math.radians(lat1)\n",
        "    phi2 = math.radians(lat2)\n",
        "    delta_phi = math.radians(lat2 - lat1)\n",
        "    delta_lambda = math.radians(lon2 - lon1)\n",
        "\n",
        "    a = math.sin(delta_phi / 2) ** 2 + math.cos(phi1) * math.cos(phi2) * math.sin(delta_lambda / 2) ** 2\n",
        "    c = 2 * math.atan2(math.sqrt(a), math.sqrt(1 - a))\n",
        "\n",
        "    return R * c  # Retorna a distância em km\n"
      ]
    },
    {
      "cell_type": "code",
      "source": [
        "def otimizacao_local(alocacoes, pontos_avaliacao, participantes, max_iteracoes=100):\n",
        "    \"\"\"\n",
        "    Realiza a otimização local para reduzir o custo total da solução inicial.\n",
        "    Interrompe após atingir o número máximo de iterações.\n",
        "\n",
        "    Args:\n",
        "        alocacoes (dict): Alocação inicial dos participantes.\n",
        "        pontos_avaliacao (list): Lista de pontos de avaliação.\n",
        "        participantes (list): Lista de participantes.\n",
        "        max_iteracoes (int): Número máximo de iterações permitido.\n",
        "\n",
        "    Returns:\n",
        "        dict: Alocações otimizadas.\n",
        "    \"\"\"\n",
        "    pontos_dict = {ponto[\"id\"]: ponto for ponto in pontos_avaliacao}  # Para acesso rápido\n",
        "    convergiu = False\n",
        "    iteracoes = 0  # Contador de iterações\n",
        "\n",
        "    while not convergiu and iteracoes < max_iteracoes:\n",
        "        convergiu = True  # Assume que não haverá melhorias\n",
        "        iteracoes += 1\n",
        "\n",
        "        for ponto_id, participantes_ids in list(alocacoes.items()):\n",
        "            ponto_atual = pontos_dict[ponto_id]\n",
        "\n",
        "            for participante_id in participantes_ids[:]:  # Iterar sobre uma cópia para evitar problemas ao realocar\n",
        "                participante = next(p for p in participantes if p[\"id\"] == participante_id)\n",
        "                menor_custo = haversine(participante[\"lat\"], participante[\"lon\"], ponto_atual[\"lat\"], ponto_atual[\"lon\"])\n",
        "                melhor_ponto_id = ponto_id\n",
        "\n",
        "                # Testar realocação para outros pontos de avaliação\n",
        "                for outro_ponto in pontos_avaliacao:\n",
        "                    if outro_ponto[\"id\"] != ponto_id and len(alocacoes[outro_ponto[\"id\"]]) < outro_ponto[\"capacidade\"]:\n",
        "                        novo_custo = haversine(participante[\"lat\"], participante[\"lon\"], outro_ponto[\"lat\"], outro_ponto[\"lon\"])\n",
        "                        if novo_custo < menor_custo:  # Encontrou um ponto melhor\n",
        "                            menor_custo = novo_custo\n",
        "                            melhor_ponto_id = outro_ponto[\"id\"]\n",
        "\n",
        "                # Realocar se encontrou um ponto melhor\n",
        "                if melhor_ponto_id != ponto_id:\n",
        "                    alocacoes[ponto_id].remove(participante_id)\n",
        "                    alocacoes[melhor_ponto_id].append(participante_id)\n",
        "                    convergiu = False  # Houve uma melhoria, então continua otimizando\n",
        "\n",
        "    print(f\"Otimizador parou após {iteracoes} iterações.\")\n",
        "    return alocacoes\n"
      ],
      "metadata": {
        "id": "lbTSRjKFIF4s"
      },
      "execution_count": 15,
      "outputs": []
    },
    {
      "cell_type": "code",
      "source": [
        "def alocar_participantes_ordenado(pontos_avaliacao, participantes):\n",
        "    \"\"\"\n",
        "    Aloca os participantes aos pontos de avaliação de forma que cada participante seja alocado ao ponto mais próximo disponível.\n",
        "    \"\"\"\n",
        "    alocacoes = defaultdict(list)\n",
        "\n",
        "    for participante in participantes:\n",
        "        # Calcular distâncias e ordenar os pontos de avaliação por proximidade\n",
        "        distancias = sorted(\n",
        "            [\n",
        "                (haversine(participante[\"lat\"], participante[\"lon\"], ponto[\"lat\"], ponto[\"lon\"]), ponto[\"id\"])\n",
        "                for ponto in pontos_avaliacao\n",
        "                   if len(alocacoes[ponto[\"id\"]]) < ponto[\"capacidade\"]\n",
        "            ],\n",
        "            key=lambda x: x[0]\n",
        "        )\n",
        "\n",
        "        # Seleciona o ponto de avaliação mais próximo com capacidade disponível\n",
        "        if distancias:\n",
        "            _, ponto_selecionado = distancias[0]  # O primeiro item é o mais próximo\n",
        "            alocacoes[ponto_selecionado].append(participante[\"id\"])\n",
        "\n",
        "    return alocacoes\n"
      ],
      "metadata": {
        "id": "5z_eNGS_H2SQ"
      },
      "execution_count": 10,
      "outputs": []
    },
    {
      "cell_type": "code",
      "execution_count": 17,
      "metadata": {
        "id": "58l1brrRlTRj"
      },
      "outputs": [],
      "source": [
        "def alocar_participantes(pontos_avaliacao, participantes):\n",
        "    # Inicializa um dicionário para rastrear quantos participantes estão alocados em cada ponto de avaliação\n",
        "    alocacoes = defaultdict(list)\n",
        "\n",
        "    for participante in participantes:\n",
        "        distancias = []\n",
        "\n",
        "        # Calcula a distância do participante a cada ponto de avaliação e verifica a capacidade disponível\n",
        "        for ponto in pontos_avaliacao:\n",
        "            if len(alocacoes[ponto[\"id\"]]) < ponto[\"capacidade\"]:\n",
        "                distancia = haversine(participante[\"lat\"], participante[\"lon\"], ponto[\"lat\"], ponto[\"lon\"])\n",
        "                distancias.append((distancia, ponto[\"id\"]))\n",
        "\n",
        "        # Seleciona o ponto de avaliação mais próximo com capacidade disponível\n",
        "        if distancias:\n",
        "            _, ponto_selecionado = min(distancias, key=lambda x: x[0])\n",
        "            alocacoes[ponto_selecionado].append(participante[\"id\"])\n",
        "\n",
        "    return alocacoes\n"
      ]
    },
    {
      "cell_type": "code",
      "source": [
        "def calcular_custo_total(alocacoes, pontos_avaliacao, participantes):\n",
        "    \"\"\"\n",
        "    Calcula o custo total como o somatório das distâncias percorridas por todos os participantes.\n",
        "    \"\"\"\n",
        "    custo_total = 0\n",
        "\n",
        "    # Criar um dicionário para acesso rápido aos dados dos pontos de avaliação\n",
        "    pontos_dict = {ponto[\"id\"]: ponto for ponto in pontos_avaliacao}\n",
        "\n",
        "    # Iterar pelas alocações\n",
        "    for ponto_id, participantes_ids in alocacoes.items():\n",
        "        ponto = pontos_dict[ponto_id]  # Dados do ponto de avaliação\n",
        "\n",
        "        for participante_id in participantes_ids:\n",
        "            # Encontrar os dados do participante\n",
        "            participante = next(p for p in participantes if p[\"id\"] == participante_id)\n",
        "\n",
        "            # Calcular a distância e somar ao custo total\n",
        "            distancia = haversine(participante[\"lat\"], participante[\"lon\"], ponto[\"lat\"], ponto[\"lon\"])\n",
        "            custo_total += distancia\n",
        "\n",
        "    return custo_total\n"
      ],
      "metadata": {
        "id": "csV0RMBbIWIA"
      },
      "execution_count": 4,
      "outputs": []
    },
    {
      "cell_type": "code",
      "source": [
        "# Carregar dados\n",
        "pontos_avaliacao = carregar_pontos_avaliacao(\"pontos-avaliacao.csv\")\n",
        "candidatos = carregar_candidatos(\"candidatos.csv\")"
      ],
      "metadata": {
        "id": "kXgSpLvyybWv"
      },
      "execution_count": 8,
      "outputs": []
    },
    {
      "cell_type": "code",
      "source": [
        "# Alocar participantes\n",
        "alocacoes_iniciais = alocar_participantes_ordenado(pontos_avaliacao, candidatos)\n"
      ],
      "metadata": {
        "id": "XfvjpHtqz-tT"
      },
      "execution_count": 11,
      "outputs": []
    },
    {
      "cell_type": "code",
      "source": [],
      "metadata": {
        "id": "V1StbPDHKZKg"
      },
      "execution_count": null,
      "outputs": []
    },
    {
      "cell_type": "code",
      "source": [
        "# Calcular o custo inicial\n",
        "custo_inicial = calcular_custo_total(alocacoes_iniciais, pontos_avaliacao, candidatos)\n",
        "print(f\"Custo inicial: {custo_inicial:.2f} km\")"
      ],
      "metadata": {
        "colab": {
          "base_uri": "https://localhost:8080/"
        },
        "id": "mvq2cg1TIOMZ",
        "outputId": "e7dfd6b0-88aa-4698-f8cd-01a387f1893b"
      },
      "execution_count": 13,
      "outputs": [
        {
          "output_type": "stream",
          "name": "stdout",
          "text": [
            "Custo inicial: 218676.65 km\n"
          ]
        }
      ]
    },
    {
      "cell_type": "code",
      "source": [
        "# Aplicar otimização local\n",
        "alocacoes_otimizadas = otimizacao_local(alocacoes_iniciais, pontos_avaliacao, candidatos)\n"
      ],
      "metadata": {
        "colab": {
          "base_uri": "https://localhost:8080/"
        },
        "id": "_uxAlWz6I7Gi",
        "outputId": "c8f4f4f5-7cae-4acc-9d14-961aae5173d5"
      },
      "execution_count": 16,
      "outputs": [
        {
          "output_type": "stream",
          "name": "stdout",
          "text": [
            "Otimizador parou após 1 iterações.\n"
          ]
        }
      ]
    },
    {
      "cell_type": "code",
      "source": [
        "# Calcular o custo após a otimização\n",
        "custo_otimizado = calcular_custo_total(alocacoes_otimizadas, pontos_avaliacao, candidatos)\n",
        "print(f\"Custo após otimização: {custo_otimizado:.2f} km\")\n"
      ],
      "metadata": {
        "colab": {
          "base_uri": "https://localhost:8080/"
        },
        "id": "XpdJlMrrJCAC",
        "outputId": "1cc5dae6-3463-45a7-9ddc-d865a0f0bc37"
      },
      "execution_count": 17,
      "outputs": [
        {
          "output_type": "stream",
          "name": "stdout",
          "text": [
            "Custo após otimização: 218676.65 km\n"
          ]
        }
      ]
    },
    {
      "cell_type": "code",
      "source": [
        "# Verificar a melhoria\n",
        "print(f\"Melhoria no custo: {custo_inicial - custo_otimizado:.2f} km\")"
      ],
      "metadata": {
        "colab": {
          "base_uri": "https://localhost:8080/"
        },
        "id": "X_5RwcgOJESq",
        "outputId": "f7d62dfc-ad4c-4532-ec5b-4ca4944065e3"
      },
      "execution_count": 18,
      "outputs": [
        {
          "output_type": "stream",
          "name": "stdout",
          "text": [
            "Melhoria no custo: 0.00 km\n"
          ]
        }
      ]
    },
    {
      "cell_type": "code",
      "execution_count": 19,
      "metadata": {
        "colab": {
          "base_uri": "https://localhost:8080/"
        },
        "id": "T1iBiUq1lZYr",
        "outputId": "5b24b911-a9bc-4eb1-d978-495134a2256a"
      },
      "outputs": [
        {
          "output_type": "stream",
          "name": "stdout",
          "text": [
            "Arquivo 'alocacoes.csv' gerado com as alocações dos participantes.\n"
          ]
        }
      ],
      "source": [
        "\n",
        "\n",
        "# Salvar as alocações no formato desejado\n",
        "salvar_alocacoes_csv(alocacoes_iniciais, pontos_avaliacao, candidatos, \"alocacoes1.csv\")\n",
        "\n",
        "print(\"Arquivo 'alocacoes.csv' gerado com as alocações dos participantes.\")"
      ]
    },
    {
      "cell_type": "code",
      "source": [
        "import pandas as pd\n",
        "\n",
        "\n",
        "df = pd.read_csv(\"alocacoes1.csv\")\n",
        "df.head()\n",
        "df.describe()"
      ],
      "metadata": {
        "colab": {
          "base_uri": "https://localhost:8080/",
          "height": 300
        },
        "id": "avfJ-naK2PzW",
        "outputId": "49d23acb-2b1e-4994-ce67-08463383b591"
      },
      "execution_count": 20,
      "outputs": [
        {
          "output_type": "execute_result",
          "data": {
            "text/plain": [
              "       Cod Participante\n",
              "count     100000.000000\n",
              "mean       50000.500000\n",
              "std        28867.657797\n",
              "min            1.000000\n",
              "25%        25000.750000\n",
              "50%        50000.500000\n",
              "75%        75000.250000\n",
              "max       100000.000000"
            ],
            "text/html": [
              "\n",
              "  <div id=\"df-c6dc4d37-9d67-4dff-97e0-1f5e734fe383\" class=\"colab-df-container\">\n",
              "    <div>\n",
              "<style scoped>\n",
              "    .dataframe tbody tr th:only-of-type {\n",
              "        vertical-align: middle;\n",
              "    }\n",
              "\n",
              "    .dataframe tbody tr th {\n",
              "        vertical-align: top;\n",
              "    }\n",
              "\n",
              "    .dataframe thead th {\n",
              "        text-align: right;\n",
              "    }\n",
              "</style>\n",
              "<table border=\"1\" class=\"dataframe\">\n",
              "  <thead>\n",
              "    <tr style=\"text-align: right;\">\n",
              "      <th></th>\n",
              "      <th>Cod Participante</th>\n",
              "    </tr>\n",
              "  </thead>\n",
              "  <tbody>\n",
              "    <tr>\n",
              "      <th>count</th>\n",
              "      <td>100000.000000</td>\n",
              "    </tr>\n",
              "    <tr>\n",
              "      <th>mean</th>\n",
              "      <td>50000.500000</td>\n",
              "    </tr>\n",
              "    <tr>\n",
              "      <th>std</th>\n",
              "      <td>28867.657797</td>\n",
              "    </tr>\n",
              "    <tr>\n",
              "      <th>min</th>\n",
              "      <td>1.000000</td>\n",
              "    </tr>\n",
              "    <tr>\n",
              "      <th>25%</th>\n",
              "      <td>25000.750000</td>\n",
              "    </tr>\n",
              "    <tr>\n",
              "      <th>50%</th>\n",
              "      <td>50000.500000</td>\n",
              "    </tr>\n",
              "    <tr>\n",
              "      <th>75%</th>\n",
              "      <td>75000.250000</td>\n",
              "    </tr>\n",
              "    <tr>\n",
              "      <th>max</th>\n",
              "      <td>100000.000000</td>\n",
              "    </tr>\n",
              "  </tbody>\n",
              "</table>\n",
              "</div>\n",
              "    <div class=\"colab-df-buttons\">\n",
              "\n",
              "  <div class=\"colab-df-container\">\n",
              "    <button class=\"colab-df-convert\" onclick=\"convertToInteractive('df-c6dc4d37-9d67-4dff-97e0-1f5e734fe383')\"\n",
              "            title=\"Convert this dataframe to an interactive table.\"\n",
              "            style=\"display:none;\">\n",
              "\n",
              "  <svg xmlns=\"http://www.w3.org/2000/svg\" height=\"24px\" viewBox=\"0 -960 960 960\">\n",
              "    <path d=\"M120-120v-720h720v720H120Zm60-500h600v-160H180v160Zm220 220h160v-160H400v160Zm0 220h160v-160H400v160ZM180-400h160v-160H180v160Zm440 0h160v-160H620v160ZM180-180h160v-160H180v160Zm440 0h160v-160H620v160Z\"/>\n",
              "  </svg>\n",
              "    </button>\n",
              "\n",
              "  <style>\n",
              "    .colab-df-container {\n",
              "      display:flex;\n",
              "      gap: 12px;\n",
              "    }\n",
              "\n",
              "    .colab-df-convert {\n",
              "      background-color: #E8F0FE;\n",
              "      border: none;\n",
              "      border-radius: 50%;\n",
              "      cursor: pointer;\n",
              "      display: none;\n",
              "      fill: #1967D2;\n",
              "      height: 32px;\n",
              "      padding: 0 0 0 0;\n",
              "      width: 32px;\n",
              "    }\n",
              "\n",
              "    .colab-df-convert:hover {\n",
              "      background-color: #E2EBFA;\n",
              "      box-shadow: 0px 1px 2px rgba(60, 64, 67, 0.3), 0px 1px 3px 1px rgba(60, 64, 67, 0.15);\n",
              "      fill: #174EA6;\n",
              "    }\n",
              "\n",
              "    .colab-df-buttons div {\n",
              "      margin-bottom: 4px;\n",
              "    }\n",
              "\n",
              "    [theme=dark] .colab-df-convert {\n",
              "      background-color: #3B4455;\n",
              "      fill: #D2E3FC;\n",
              "    }\n",
              "\n",
              "    [theme=dark] .colab-df-convert:hover {\n",
              "      background-color: #434B5C;\n",
              "      box-shadow: 0px 1px 3px 1px rgba(0, 0, 0, 0.15);\n",
              "      filter: drop-shadow(0px 1px 2px rgba(0, 0, 0, 0.3));\n",
              "      fill: #FFFFFF;\n",
              "    }\n",
              "  </style>\n",
              "\n",
              "    <script>\n",
              "      const buttonEl =\n",
              "        document.querySelector('#df-c6dc4d37-9d67-4dff-97e0-1f5e734fe383 button.colab-df-convert');\n",
              "      buttonEl.style.display =\n",
              "        google.colab.kernel.accessAllowed ? 'block' : 'none';\n",
              "\n",
              "      async function convertToInteractive(key) {\n",
              "        const element = document.querySelector('#df-c6dc4d37-9d67-4dff-97e0-1f5e734fe383');\n",
              "        const dataTable =\n",
              "          await google.colab.kernel.invokeFunction('convertToInteractive',\n",
              "                                                    [key], {});\n",
              "        if (!dataTable) return;\n",
              "\n",
              "        const docLinkHtml = 'Like what you see? Visit the ' +\n",
              "          '<a target=\"_blank\" href=https://colab.research.google.com/notebooks/data_table.ipynb>data table notebook</a>'\n",
              "          + ' to learn more about interactive tables.';\n",
              "        element.innerHTML = '';\n",
              "        dataTable['output_type'] = 'display_data';\n",
              "        await google.colab.output.renderOutput(dataTable, element);\n",
              "        const docLink = document.createElement('div');\n",
              "        docLink.innerHTML = docLinkHtml;\n",
              "        element.appendChild(docLink);\n",
              "      }\n",
              "    </script>\n",
              "  </div>\n",
              "\n",
              "\n",
              "<div id=\"df-b50ccb40-2829-41f8-9edc-551c3bb7de61\">\n",
              "  <button class=\"colab-df-quickchart\" onclick=\"quickchart('df-b50ccb40-2829-41f8-9edc-551c3bb7de61')\"\n",
              "            title=\"Suggest charts\"\n",
              "            style=\"display:none;\">\n",
              "\n",
              "<svg xmlns=\"http://www.w3.org/2000/svg\" height=\"24px\"viewBox=\"0 0 24 24\"\n",
              "     width=\"24px\">\n",
              "    <g>\n",
              "        <path d=\"M19 3H5c-1.1 0-2 .9-2 2v14c0 1.1.9 2 2 2h14c1.1 0 2-.9 2-2V5c0-1.1-.9-2-2-2zM9 17H7v-7h2v7zm4 0h-2V7h2v10zm4 0h-2v-4h2v4z\"/>\n",
              "    </g>\n",
              "</svg>\n",
              "  </button>\n",
              "\n",
              "<style>\n",
              "  .colab-df-quickchart {\n",
              "      --bg-color: #E8F0FE;\n",
              "      --fill-color: #1967D2;\n",
              "      --hover-bg-color: #E2EBFA;\n",
              "      --hover-fill-color: #174EA6;\n",
              "      --disabled-fill-color: #AAA;\n",
              "      --disabled-bg-color: #DDD;\n",
              "  }\n",
              "\n",
              "  [theme=dark] .colab-df-quickchart {\n",
              "      --bg-color: #3B4455;\n",
              "      --fill-color: #D2E3FC;\n",
              "      --hover-bg-color: #434B5C;\n",
              "      --hover-fill-color: #FFFFFF;\n",
              "      --disabled-bg-color: #3B4455;\n",
              "      --disabled-fill-color: #666;\n",
              "  }\n",
              "\n",
              "  .colab-df-quickchart {\n",
              "    background-color: var(--bg-color);\n",
              "    border: none;\n",
              "    border-radius: 50%;\n",
              "    cursor: pointer;\n",
              "    display: none;\n",
              "    fill: var(--fill-color);\n",
              "    height: 32px;\n",
              "    padding: 0;\n",
              "    width: 32px;\n",
              "  }\n",
              "\n",
              "  .colab-df-quickchart:hover {\n",
              "    background-color: var(--hover-bg-color);\n",
              "    box-shadow: 0 1px 2px rgba(60, 64, 67, 0.3), 0 1px 3px 1px rgba(60, 64, 67, 0.15);\n",
              "    fill: var(--button-hover-fill-color);\n",
              "  }\n",
              "\n",
              "  .colab-df-quickchart-complete:disabled,\n",
              "  .colab-df-quickchart-complete:disabled:hover {\n",
              "    background-color: var(--disabled-bg-color);\n",
              "    fill: var(--disabled-fill-color);\n",
              "    box-shadow: none;\n",
              "  }\n",
              "\n",
              "  .colab-df-spinner {\n",
              "    border: 2px solid var(--fill-color);\n",
              "    border-color: transparent;\n",
              "    border-bottom-color: var(--fill-color);\n",
              "    animation:\n",
              "      spin 1s steps(1) infinite;\n",
              "  }\n",
              "\n",
              "  @keyframes spin {\n",
              "    0% {\n",
              "      border-color: transparent;\n",
              "      border-bottom-color: var(--fill-color);\n",
              "      border-left-color: var(--fill-color);\n",
              "    }\n",
              "    20% {\n",
              "      border-color: transparent;\n",
              "      border-left-color: var(--fill-color);\n",
              "      border-top-color: var(--fill-color);\n",
              "    }\n",
              "    30% {\n",
              "      border-color: transparent;\n",
              "      border-left-color: var(--fill-color);\n",
              "      border-top-color: var(--fill-color);\n",
              "      border-right-color: var(--fill-color);\n",
              "    }\n",
              "    40% {\n",
              "      border-color: transparent;\n",
              "      border-right-color: var(--fill-color);\n",
              "      border-top-color: var(--fill-color);\n",
              "    }\n",
              "    60% {\n",
              "      border-color: transparent;\n",
              "      border-right-color: var(--fill-color);\n",
              "    }\n",
              "    80% {\n",
              "      border-color: transparent;\n",
              "      border-right-color: var(--fill-color);\n",
              "      border-bottom-color: var(--fill-color);\n",
              "    }\n",
              "    90% {\n",
              "      border-color: transparent;\n",
              "      border-bottom-color: var(--fill-color);\n",
              "    }\n",
              "  }\n",
              "</style>\n",
              "\n",
              "  <script>\n",
              "    async function quickchart(key) {\n",
              "      const quickchartButtonEl =\n",
              "        document.querySelector('#' + key + ' button');\n",
              "      quickchartButtonEl.disabled = true;  // To prevent multiple clicks.\n",
              "      quickchartButtonEl.classList.add('colab-df-spinner');\n",
              "      try {\n",
              "        const charts = await google.colab.kernel.invokeFunction(\n",
              "            'suggestCharts', [key], {});\n",
              "      } catch (error) {\n",
              "        console.error('Error during call to suggestCharts:', error);\n",
              "      }\n",
              "      quickchartButtonEl.classList.remove('colab-df-spinner');\n",
              "      quickchartButtonEl.classList.add('colab-df-quickchart-complete');\n",
              "    }\n",
              "    (() => {\n",
              "      let quickchartButtonEl =\n",
              "        document.querySelector('#df-b50ccb40-2829-41f8-9edc-551c3bb7de61 button');\n",
              "      quickchartButtonEl.style.display =\n",
              "        google.colab.kernel.accessAllowed ? 'block' : 'none';\n",
              "    })();\n",
              "  </script>\n",
              "</div>\n",
              "\n",
              "    </div>\n",
              "  </div>\n"
            ],
            "application/vnd.google.colaboratory.intrinsic+json": {
              "type": "dataframe",
              "summary": "{\n  \"name\": \"df\",\n  \"rows\": 8,\n  \"fields\": [\n    {\n      \"column\": \"Cod Participante\",\n      \"properties\": {\n        \"dtype\": \"number\",\n        \"std\": 36040.179024688565,\n        \"min\": 1.0,\n        \"max\": 100000.0,\n        \"num_unique_values\": 6,\n        \"samples\": [\n          100000.0,\n          50000.5,\n          75000.25\n        ],\n        \"semantic_type\": \"\",\n        \"description\": \"\"\n      }\n    }\n  ]\n}"
            }
          },
          "metadata": {},
          "execution_count": 20
        }
      ]
    },
    {
      "cell_type": "markdown",
      "source": [
        "### Gerador de dados"
      ],
      "metadata": {
        "id": "GwB6ZfW8yr07"
      }
    },
    {
      "cell_type": "code",
      "source": [
        "import random\n",
        "import csv\n",
        "\n",
        "# Função para gerar localizações aleatórias\n",
        "def generate_random_location(lat_range, lon_range):\n",
        "    lat = random.uniform(*lat_range)\n",
        "    lon = random.uniform(*lon_range)\n",
        "    return lat, lon\n",
        "\n",
        "# Parâmetros da cidade de Rondonópolis\n",
        "lat_range = (-16.5, -16.3)\n",
        "lon_range = (-54.8, -54.5)\n",
        "\n",
        "# Parâmetros para pontos de avaliação\n",
        "num_candidates = 100000\n",
        "capacity_per_point = 600  # 20 salas com 30 pessoas cada\n",
        "\n",
        "# Calcular o número de pontos de avaliação necessários\n",
        "num_points = num_candidates // capacity_per_point + (1 if num_candidates % capacity_per_point != 0 else 0)\n",
        "\n",
        "# Geração dos pontos de avaliação\n",
        "points_of_evaluation = []\n",
        "for i in range(num_points):\n",
        "    lat, lon = generate_random_location(lat_range, lon_range)\n",
        "    points_of_evaluation.append({\"nome\": f\"Ponto {i+1}\", \"capacity\": capacity_per_point, \"latitude\": lat, \"longitude\": lon})\n",
        "\n",
        "# Geração dos candidatos\n",
        "candidates = []\n",
        "for i in range(num_candidates):\n",
        "    lat, lon = generate_random_location(lat_range, lon_range)\n",
        "    candidates.append({\"nome\": f\"Candidato {i+1}\", \"latitude\": lat, \"longitude\": lon})\n",
        "\n",
        "# Salvar os pontos de avaliação em um arquivo CSV\n",
        "with open(\"./pontos-avaliacao.csv\", mode=\"w\", newline=\"\") as file:\n",
        "    writer = csv.writer(file)\n",
        "    writer.writerow([\"Nome\", \"Capacidade\", \"Latitude\", \"Longitude\"])\n",
        "    for point in points_of_evaluation:\n",
        "        writer.writerow([point[\"nome\"], point[\"capacity\"], point[\"latitude\"], point[\"longitude\"]])\n",
        "\n",
        "# Salvar os candidatos em um arquivo CSV\n",
        "with open(\"./candidatos.csv\", mode=\"w\", newline=\"\") as file:\n",
        "    writer = csv.writer(file)\n",
        "    writer.writerow([\"Name\", \"Latitude\", \"Longitude\"])\n",
        "    for candidate in candidates:\n",
        "        writer.writerow([candidate[\"nome\"], candidate[\"latitude\"], candidate[\"longitude\"]])\n",
        "\n",
        "print(f\"Pontos de avaliação gerados: {num_points}\")\n",
        "print(f\"Arquivo 'pontos-avaliacao.csv' gerado com {num_points} pontos de avaliação.\")\n",
        "print(f\"Arquivo 'candidatos.csv' gerado com {num_candidates} candidatos.\")"
      ],
      "metadata": {
        "colab": {
          "base_uri": "https://localhost:8080/"
        },
        "id": "iNjjO9_BxD58",
        "outputId": "3e151ddb-0a38-4a96-eaa9-9cd42e8dc6b0"
      },
      "execution_count": 7,
      "outputs": [
        {
          "output_type": "stream",
          "name": "stdout",
          "text": [
            "Pontos de avaliação gerados: 167\n",
            "Arquivo 'pontos-avaliacao.csv' gerado com 167 pontos de avaliação.\n",
            "Arquivo 'candidatos.csv' gerado com 100000 candidatos.\n"
          ]
        }
      ]
    },
    {
      "cell_type": "code",
      "source": [],
      "metadata": {
        "id": "TvYO8oXBzyqQ"
      },
      "execution_count": null,
      "outputs": []
    }
  ],
  "metadata": {
    "colab": {
      "provenance": [],
      "gpuType": "T4",
      "mount_file_id": "1_qw0025SDoUi2OMW0qIb9xIxHLdZJct6",
      "authorship_tag": "ABX9TyNcdynrudfvvx6sM0JdbexI",
      "include_colab_link": true
    },
    "kernelspec": {
      "display_name": "Python 3",
      "name": "python3"
    },
    "language_info": {
      "name": "python"
    },
    "accelerator": "GPU"
  },
  "nbformat": 4,
  "nbformat_minor": 0
}